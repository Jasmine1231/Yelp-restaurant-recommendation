{
 "cells": [
  {
   "cell_type": "markdown",
   "metadata": {},
   "source": [
    "# Rating Prediction using review text"
   ]
  },
  {
   "cell_type": "markdown",
   "metadata": {},
   "source": [
    "We use the user reviews for prediction of the rating."
   ]
  },
  {
   "cell_type": "code",
   "execution_count": 1,
   "metadata": {},
   "outputs": [
    {
     "name": "stderr",
     "output_type": "stream",
     "text": [
      "100%|██████████| 6685900/6685900 [00:48<00:00, 136533.89it/s]\n"
     ]
    }
   ],
   "source": [
    "import pandas as pd\n",
    "import json\n",
    "from tqdm import tqdm\n",
    "line_count = len(open(\"yelp_dataset/review.json\").readlines())\n",
    "user_ids, business_ids, stars, dates,reviews = [], [], [], [],[]\n",
    "with open(\"yelp_dataset/review.json\") as f:\n",
    "    for line in tqdm(f, total=line_count):\n",
    "        blob = json.loads(line)\n",
    "        user_ids += [blob[\"user_id\"]]\n",
    "        business_ids += [blob[\"business_id\"]] \n",
    "        stars += [blob[\"stars\"]]\n",
    "        dates += [blob[\"date\"]]\n",
    "        reviews +=[blob[\"text\"]]\n",
    "ratings=pd.DataFrame({\"user_id\": user_ids, \"business_id\": business_ids, \"rating\": stars, \"date\": dates,\"reviews\":reviews})\n",
    "user_counts = ratings[\"user_id\"].value_counts()\n",
    "active_users = user_counts.loc[user_counts >= 5].index.tolist()"
   ]
  },
  {
   "cell_type": "markdown",
   "metadata": {},
   "source": [
    "First we will divide the whole dataset into two parts, one is the latest rating for active users, the other is the remaining data."
   ]
  },
  {
   "cell_type": "code",
   "execution_count": 2,
   "metadata": {},
   "outputs": [],
   "source": [
    "sorted_ratings=ratings.set_index(['user_id','date']).sort_index(ascending=False)\n",
    "latest_ratings=sorted_ratings.groupby('user_id').head(1).reset_index()\n",
    "latest_ratings=latest_ratings[latest_ratings['user_id'].isin(active_users)]"
   ]
  },
  {
   "cell_type": "code",
   "execution_count": 115,
   "metadata": {},
   "outputs": [
    {
     "name": "stderr",
     "output_type": "stream",
     "text": [
      "/Users/jasmine1231/anaconda3/lib/python3.6/site-packages/ipykernel_launcher.py:1: FutureWarning: Sorting because non-concatenation axis is not aligned. A future version\n",
      "of pandas will change to not sort by default.\n",
      "\n",
      "To accept the future behavior, pass 'sort=False'.\n",
      "\n",
      "To retain the current behavior and silence the warning, pass 'sort=True'.\n",
      "\n",
      "  \"\"\"Entry point for launching an IPython kernel.\n"
     ]
    }
   ],
   "source": [
    "remaining_ratings=pd.concat([ratings, latest_ratings]).drop_duplicates(keep=False)"
   ]
  },
  {
   "cell_type": "code",
   "execution_count": 22,
   "metadata": {},
   "outputs": [
    {
     "name": "stderr",
     "output_type": "stream",
     "text": [
      "/Users/jasmine1231/anaconda3/lib/python3.6/site-packages/ipykernel_launcher.py:1: FutureWarning: Sorting because non-concatenation axis is not aligned. A future version\n",
      "of pandas will change to not sort by default.\n",
      "\n",
      "To accept the future behavior, pass 'sort=False'.\n",
      "\n",
      "To retain the current behavior and silence the warning, pass 'sort=True'.\n",
      "\n",
      "  \"\"\"Entry point for launching an IPython kernel.\n"
     ]
    }
   ],
   "source": [
    "new_ratings=pd.concat([latest_ratings, remaining_ratings])"
   ]
  },
  {
   "cell_type": "markdown",
   "metadata": {},
   "source": [
    "We will use all the review data from the original dataset to turn all of our reviews into vectors. <br>\n",
    "<br>\n",
    "Sometimes, the reviews will contain phrases like \"not good\", so we cannot only consider words independently. <br>\n",
    "When we break a text into n-grams, we consider several words grouped together to be a single word. “The food was not great” would be represented using bi-grams as (the food, food was, was not, not great), and this would allow our system to learn that not great is a typically negative statement because it appears in many negative reviews. <br>\n",
    "We will use unigrams (single words) and bigrams (two words at a time) since longer combinations of words will lead to great memory cost."
   ]
  },
  {
   "cell_type": "code",
   "execution_count": 23,
   "metadata": {},
   "outputs": [
    {
     "name": "stdout",
     "output_type": "stream",
     "text": [
      "0:54:19.473436\n"
     ]
    }
   ],
   "source": [
    "from sklearn.feature_extraction.text import TfidfVectorizer\n",
    "from datetime import datetime\n",
    "\n",
    "# This vectorizer breaks text into single words and bi-grams\n",
    "# and then calculates the TF-IDF representation\n",
    "vectorizer = TfidfVectorizer(ngram_range=(1,2))\n",
    "t1 = datetime.now()\n",
    "\n",
    "# the 'fit' builds up the vocabulary from all the reviews\n",
    "# while the 'transform' step turns each indivdual text into\n",
    "# a matrix of numbers.\n",
    "vectors = vectorizer.fit_transform(new_ratings.reviews)\n",
    "print(datetime.now() - t1)"
   ]
  },
  {
   "cell_type": "code",
   "execution_count": 24,
   "metadata": {},
   "outputs": [
    {
     "name": "stdout",
     "output_type": "stream",
     "text": [
      "(6399764, 26536440)\n",
      "6399764\n",
      "(286130, 26536440)\n",
      "286130\n"
     ]
    }
   ],
   "source": [
    "X_train=vectors[286130:,:]\n",
    "y_train=remaining_ratings.rating\n",
    "X_test=vectors[:286130,:]\n",
    "y_test=latest_ratings.rating\n",
    "print(X_train.shape)\n",
    "print(len(y_train))\n",
    "print(X_test.shape)\n",
    "print(len(y_test))"
   ]
  },
  {
   "cell_type": "code",
   "execution_count": 25,
   "metadata": {},
   "outputs": [
    {
     "name": "stdout",
     "output_type": "stream",
     "text": [
      "2:06:36.175164\n"
     ]
    }
   ],
   "source": [
    "from sklearn.svm import LinearSVC\n",
    "\n",
    "# initialise the SVM classifier\n",
    "classifier = LinearSVC()\n",
    "\n",
    "# train the classifier\n",
    "t1 = datetime.now()\n",
    "classifier.fit(X_train, y_train)\n",
    "print(datetime.now() - t1)"
   ]
  },
  {
   "cell_type": "code",
   "execution_count": 26,
   "metadata": {},
   "outputs": [],
   "source": [
    "preds = classifier.predict(X_test)"
   ]
  },
  {
   "cell_type": "code",
   "execution_count": 27,
   "metadata": {},
   "outputs": [
    {
     "data": {
      "text/html": [
       "<div>\n",
       "<style scoped>\n",
       "    .dataframe tbody tr th:only-of-type {\n",
       "        vertical-align: middle;\n",
       "    }\n",
       "\n",
       "    .dataframe tbody tr th {\n",
       "        vertical-align: top;\n",
       "    }\n",
       "\n",
       "    .dataframe thead th {\n",
       "        text-align: right;\n",
       "    }\n",
       "</style>\n",
       "<table border=\"1\" class=\"dataframe\">\n",
       "  <thead>\n",
       "    <tr style=\"text-align: right;\">\n",
       "      <th></th>\n",
       "      <th>prediction</th>\n",
       "      <th>actual</th>\n",
       "      <th>difference</th>\n",
       "    </tr>\n",
       "  </thead>\n",
       "  <tbody>\n",
       "    <tr>\n",
       "      <th>261</th>\n",
       "      <td>1.0</td>\n",
       "      <td>5.0</td>\n",
       "      <td>-4.0</td>\n",
       "    </tr>\n",
       "    <tr>\n",
       "      <th>897</th>\n",
       "      <td>1.0</td>\n",
       "      <td>5.0</td>\n",
       "      <td>-4.0</td>\n",
       "    </tr>\n",
       "    <tr>\n",
       "      <th>2367</th>\n",
       "      <td>1.0</td>\n",
       "      <td>5.0</td>\n",
       "      <td>-4.0</td>\n",
       "    </tr>\n",
       "    <tr>\n",
       "      <th>3700</th>\n",
       "      <td>5.0</td>\n",
       "      <td>1.0</td>\n",
       "      <td>4.0</td>\n",
       "    </tr>\n",
       "    <tr>\n",
       "      <th>5884</th>\n",
       "      <td>5.0</td>\n",
       "      <td>1.0</td>\n",
       "      <td>4.0</td>\n",
       "    </tr>\n",
       "    <tr>\n",
       "      <th>...</th>\n",
       "      <td>...</td>\n",
       "      <td>...</td>\n",
       "      <td>...</td>\n",
       "    </tr>\n",
       "    <tr>\n",
       "      <th>1629642</th>\n",
       "      <td>5.0</td>\n",
       "      <td>1.0</td>\n",
       "      <td>4.0</td>\n",
       "    </tr>\n",
       "    <tr>\n",
       "      <th>1631618</th>\n",
       "      <td>1.0</td>\n",
       "      <td>5.0</td>\n",
       "      <td>-4.0</td>\n",
       "    </tr>\n",
       "    <tr>\n",
       "      <th>1633937</th>\n",
       "      <td>1.0</td>\n",
       "      <td>5.0</td>\n",
       "      <td>-4.0</td>\n",
       "    </tr>\n",
       "    <tr>\n",
       "      <th>1634972</th>\n",
       "      <td>1.0</td>\n",
       "      <td>5.0</td>\n",
       "      <td>-4.0</td>\n",
       "    </tr>\n",
       "    <tr>\n",
       "      <th>1635332</th>\n",
       "      <td>1.0</td>\n",
       "      <td>5.0</td>\n",
       "      <td>-4.0</td>\n",
       "    </tr>\n",
       "  </tbody>\n",
       "</table>\n",
       "<p>1284 rows × 3 columns</p>\n",
       "</div>"
      ],
      "text/plain": [
       "         prediction  actual  difference\n",
       "261             1.0     5.0        -4.0\n",
       "897             1.0     5.0        -4.0\n",
       "2367            1.0     5.0        -4.0\n",
       "3700            5.0     1.0         4.0\n",
       "5884            5.0     1.0         4.0\n",
       "...             ...     ...         ...\n",
       "1629642         5.0     1.0         4.0\n",
       "1631618         1.0     5.0        -4.0\n",
       "1633937         1.0     5.0        -4.0\n",
       "1634972         1.0     5.0        -4.0\n",
       "1635332         1.0     5.0        -4.0\n",
       "\n",
       "[1284 rows x 3 columns]"
      ]
     },
     "execution_count": 27,
     "metadata": {},
     "output_type": "execute_result"
    }
   ],
   "source": [
    "testing_result_df=pd.DataFrame({'prediction':preds,'actual':y_test})\n",
    "testing_result_df['difference'] = testing_result_df['prediction'] - testing_result_df['actual'] \n",
    "testing_result_df.loc[abs(testing_result_df['difference']) == 4]"
   ]
  },
  {
   "cell_type": "code",
   "execution_count": 28,
   "metadata": {},
   "outputs": [],
   "source": [
    "def compute_average_word_num(i):\n",
    "    a=ratings.loc[testing_result_df.loc[abs(testing_result_df['difference']) == i].index.tolist()].reviews\n",
    "    word_sum=0\n",
    "    for j in a:\n",
    "        word_sum+=len(j.split())\n",
    "    avg_word_num=word_sum/len(a)\n",
    "    return i,avg_word_num,len(a)\n",
    "x=[]\n",
    "y=[]\n",
    "z=[]\n",
    "for k in range(5):\n",
    "    x.append(compute_average_word_num(k)[0])\n",
    "    y.append(compute_average_word_num(k)[1])\n",
    "    z.append(compute_average_word_num(k)[2])"
   ]
  },
  {
   "cell_type": "code",
   "execution_count": 29,
   "metadata": {},
   "outputs": [
    {
     "data": {
      "text/plain": [
       "array([[ 1.        , -0.40866349],\n",
       "       [-0.40866349,  1.        ]])"
      ]
     },
     "execution_count": 29,
     "metadata": {},
     "output_type": "execute_result"
    }
   ],
   "source": [
    "import numpy as np\n",
    "np.corrcoef(x,y)"
   ]
  },
  {
   "cell_type": "code",
   "execution_count": 30,
   "metadata": {},
   "outputs": [
    {
     "data": {
      "image/png": "[encoded data removed]",
      "text/plain": [
       "<Figure size 432x288 with 1 Axes>"
      ]
     },
     "metadata": {},
     "output_type": "display_data"
    },
    {
     "name": "stdout",
     "output_type": "stream",
     "text": [
      "[0, 1, 2, 3, 4]\n",
      "[110.78894838416711, 110.7600531374541, 110.92331566015777, 113.56104651162791, 105.69548286604362]\n"
     ]
    }
   ],
   "source": [
    "# Correction Matrix Plot\n",
    "import matplotlib\n",
    "import matplotlib.pyplot as plt\n",
    "%matplotlib inline\n",
    "matplotlib.style.use('ggplot')\n",
    "plt.scatter(x, y)\n",
    "plt.show()\n",
    "print(x)\n",
    "print(y)"
   ]
  },
  {
   "cell_type": "markdown",
   "metadata": {},
   "source": [
    "In the above graph, x axis represents the absolute difference between predicted rating and actual rating, y axis represents the average review length. We can see that when the length of the review is relatively short, it is mostly likely that the prediction will get completely wrong. Maybe this happens because there is relatively less information in the short reviews and is difficult to decide the sentiment in it."
   ]
  },
  {
   "cell_type": "code",
   "execution_count": 31,
   "metadata": {},
   "outputs": [
    {
     "data": {
      "image/png": "[encoded data removed]",
      "text/plain": [
       "<Figure size 432x288 with 1 Axes>"
      ]
     },
     "metadata": {},
     "output_type": "display_data"
    }
   ],
   "source": [
    "# Correction Matrix Plot\n",
    "import matplotlib\n",
    "import matplotlib.pyplot as plt\n",
    "%matplotlib inline\n",
    "matplotlib.style.use('ggplot')\n",
    "plt.scatter(x, z)\n",
    "plt.show()"
   ]
  },
  {
   "cell_type": "markdown",
   "metadata": {},
   "source": [
    "In the above graph, x axis represents the absolute difference between predicted rating and actual rating, y axis represents the number of data. We can clearly see a long tail."
   ]
  },
  {
   "cell_type": "code",
   "execution_count": 32,
   "metadata": {},
   "outputs": [
    {
     "name": "stdout",
     "output_type": "stream",
     "text": [
      "0.7388529689302066\n"
     ]
    }
   ],
   "source": [
    "from sklearn.metrics import accuracy_score\n",
    "print(accuracy_score(y_test, preds))"
   ]
  },
  {
   "cell_type": "code",
   "execution_count": 33,
   "metadata": {},
   "outputs": [
    {
     "name": "stdout",
     "output_type": "stream",
     "text": [
      "              precision    recall  f1-score   support\n",
      "\n",
      "         1.0       0.77      0.88      0.82     46475\n",
      "         2.0       0.49      0.35      0.41     22398\n",
      "         3.0       0.51      0.42      0.46     24851\n",
      "         4.0       0.52      0.49      0.51     48518\n",
      "         5.0       0.85      0.89      0.87    143888\n",
      "\n",
      "    accuracy                           0.74    286130\n",
      "   macro avg       0.63      0.61      0.61    286130\n",
      "weighted avg       0.72      0.74      0.73    286130\n",
      "\n"
     ]
    }
   ],
   "source": [
    "from sklearn.metrics import classification_report\n",
    "print(classification_report(y_test, preds))"
   ]
  },
  {
   "cell_type": "markdown",
   "metadata": {},
   "source": [
    "From this result, we can see the model is biased to different ratings. Particularly for ratings 2,3,4 , their accuracy is much lower than 1 and 5. Maybe we should train the model on balanced dataset."
   ]
  },
  {
   "cell_type": "code",
   "execution_count": 34,
   "metadata": {},
   "outputs": [
    {
     "name": "stdout",
     "output_type": "stream",
     "text": [
      "[[ 40717   3576   1020    405    757]\n",
      " [  8557   7826   4230   1104    681]\n",
      " [  2312   3845  10508   6275   1911]\n",
      " [   495    584   4198  23710  19531]\n",
      " [   527    139    802  13773 128647]]\n"
     ]
    }
   ],
   "source": [
    "from sklearn.metrics import confusion_matrix\n",
    "print(confusion_matrix(y_test, preds))"
   ]
  },
  {
   "cell_type": "markdown",
   "metadata": {},
   "source": [
    "### balanced testing \n",
    "We have more examples of texts that typically have a 5-star rating than texts that typically have a 2-star rating. Because of the probabilistic models at the base of most machine learning classifiers, we’ll get less biased predictions if we train the system on balanced data. This means that ideally we should have the same number of examples of each review type."
   ]
  },
  {
   "cell_type": "code",
   "execution_count": 93,
   "metadata": {},
   "outputs": [
    {
     "data": {
      "text/plain": [
       "<matplotlib.axes._subplots.AxesSubplot at 0x7fc324fcf8d0>"
      ]
     },
     "execution_count": 93,
     "metadata": {},
     "output_type": "execute_result"
    },
    {
     "data": {
      "image/png": "[encoded data removed]",
      "text/plain": [
       "<Figure size 432x288 with 1 Axes>"
      ]
     },
     "metadata": {},
     "output_type": "display_data"
    }
   ],
   "source": [
    "remaining_ratings['rating'].hist()"
   ]
  },
  {
   "cell_type": "code",
   "execution_count": 116,
   "metadata": {},
   "outputs": [],
   "source": [
    "from collections import Counter\n",
    "\n",
    "def balance_classes(xs, ys):\n",
    "    freqs = Counter(ys)\n",
    "\n",
    "    # the least common class is the maximum number we want for all classes\n",
    "    max_allowable = freqs.most_common()[-1][1]\n",
    "    num_added = {clss: 0 for clss in freqs.keys()}\n",
    "    new_ys = []\n",
    "    new_xs = []\n",
    "    for x, y in zip(remaining_ratings.reviews,remaining_ratings.rating):\n",
    "        if num_added[y] < max_allowable:\n",
    "            new_ys.append(y)\n",
    "            new_xs.append(x)\n",
    "        num_added[y] += 1\n",
    "    return new_xs, new_ys\n"
   ]
  },
  {
   "cell_type": "code",
   "execution_count": 118,
   "metadata": {},
   "outputs": [
    {
     "name": "stdout",
     "output_type": "stream",
     "text": [
      "0:26:54.649315\n"
     ]
    }
   ],
   "source": [
    "t1 = datetime.now()\n",
    "balanced_x, balanced_y = balance_classes(remaining_ratings.reviews, remaining_ratings.rating)\n",
    "\n",
    "latest_ratings_list=latest_ratings.reviews.tolist()\n",
    "new_ratings_reviews=latest_ratings_list+balanced_x\n",
    "\n",
    "\n",
    "vectorizer1 = TfidfVectorizer(ngram_range=(1,2))\n",
    "\n",
    "vectors1 = vectorizer1.fit_transform(new_ratings_reviews)\n",
    "X_train1=vectors1[286130:,:]\n",
    "X_test1=vectors1[:286130,:]\n",
    "y_test1=latest_ratings.rating\n",
    "\n",
    "print(datetime.now() - t1)"
   ]
  },
  {
   "cell_type": "code",
   "execution_count": 127,
   "metadata": {},
   "outputs": [
    {
     "name": "stdout",
     "output_type": "stream",
     "text": [
      "0:14:47.429006\n"
     ]
    }
   ],
   "source": [
    "# initialise the SVM classifier\n",
    "classifier1 = LinearSVC()\n",
    "\n",
    "# train the classifier\n",
    "t1 = datetime.now()\n",
    "classifier1.fit(X_train1, balanced_y)\n",
    "\n",
    "print(datetime.now() - t1)"
   ]
  },
  {
   "cell_type": "code",
   "execution_count": 128,
   "metadata": {},
   "outputs": [
    {
     "name": "stdout",
     "output_type": "stream",
     "text": [
      "0.6918288889665537\n",
      "              precision    recall  f1-score   support\n",
      "\n",
      "         1.0       0.80      0.80      0.80     46475\n",
      "         2.0       0.41      0.54      0.47     22398\n",
      "         3.0       0.41      0.48      0.44     24851\n",
      "         4.0       0.45      0.52      0.48     48518\n",
      "         5.0       0.89      0.78      0.83    143888\n",
      "\n",
      "    accuracy                           0.69    286130\n",
      "   macro avg       0.59      0.62      0.60    286130\n",
      "weighted avg       0.72      0.69      0.70    286130\n",
      "\n"
     ]
    }
   ],
   "source": [
    "preds2=classifier1.predict(X_test1)\n",
    "print(accuracy_score(y_test, preds2))\n",
    "print(classification_report(y_test1, preds2))"
   ]
  },
  {
   "cell_type": "markdown",
   "metadata": {},
   "source": [
    "A balanced train test does not have higher accuracy than the previous train test. This may due to the decrease in the size of text data."
   ]
  },
  {
   "cell_type": "code",
   "execution_count": 129,
   "metadata": {},
   "outputs": [],
   "source": [
    "testing_result_df1=pd.DataFrame({'prediction':preds2,'actual':y_test})\n",
    "testing_result_df1['difference'] = testing_result_df1['prediction'] - testing_result_df1['actual'] "
   ]
  },
  {
   "cell_type": "code",
   "execution_count": 134,
   "metadata": {},
   "outputs": [],
   "source": [
    "def compute_average_word_num1(i):\n",
    "    a=ratings.loc[testing_result_df1.loc[abs(testing_result_df1['difference']) == i].index.tolist()].reviews\n",
    "    word_sum=0\n",
    "    for j in a:\n",
    "        word_sum+=len(j.split())\n",
    "    avg_word_num=word_sum/len(a)\n",
    "    return i,avg_word_num,len(a)\n",
    "x=[]\n",
    "y=[]\n",
    "z=[]\n",
    "for k in range(5):\n",
    "    x.append(compute_average_word_num1(k)[0])\n",
    "    y.append(compute_average_word_num1(k)[1])\n",
    "    z.append(compute_average_word_num1(k)[2])"
   ]
  },
  {
   "cell_type": "code",
   "execution_count": 135,
   "metadata": {},
   "outputs": [
    {
     "name": "stdout",
     "output_type": "stream",
     "text": [
      "(0, 110.6703055775866, 197953)\n",
      "(1, 111.01783129359126, 75990)\n",
      "(2, 112.08730691739423, 8934)\n",
      "(3, 110.01880877742947, 1914)\n",
      "(4, 105.84914115011202, 1339)\n"
     ]
    }
   ],
   "source": [
    "for k in range(5):\n",
    "    print(compute_average_word_num1(k))"
   ]
  },
  {
   "cell_type": "code",
   "execution_count": 136,
   "metadata": {},
   "outputs": [
    {
     "data": {
      "text/plain": [
       "array([[ 1.        , -0.70095882],\n",
       "       [-0.70095882,  1.        ]])"
      ]
     },
     "execution_count": 136,
     "metadata": {},
     "output_type": "execute_result"
    }
   ],
   "source": [
    "import numpy as np\n",
    "np.corrcoef(x,y)"
   ]
  },
  {
   "cell_type": "code",
   "execution_count": 137,
   "metadata": {},
   "outputs": [
    {
     "data": {
      "image/png": "[encoded data removed]",
      "text/plain": [
       "<Figure size 432x288 with 1 Axes>"
      ]
     },
     "metadata": {},
     "output_type": "display_data"
    },
    {
     "name": "stdout",
     "output_type": "stream",
     "text": [
      "[0, 1, 2, 3, 4]\n",
      "[110.6703055775866, 111.01783129359126, 112.08730691739423, 110.01880877742947, 105.84914115011202]\n"
     ]
    }
   ],
   "source": [
    "# Correction Matrix Plot\n",
    "import matplotlib\n",
    "import matplotlib.pyplot as plt\n",
    "%matplotlib inline\n",
    "matplotlib.style.use('ggplot')\n",
    "plt.scatter(x, y)\n",
    "plt.show()\n",
    "print(x)\n",
    "print(y)"
   ]
  },
  {
   "cell_type": "markdown",
   "metadata": {},
   "source": [
    "Combine the graph with the graph we produced for the last test, we can clearly see that when a review is short, it is likely to predict completely wrong since short reviews may contain core information and there is less information in it. Sometimes less information may lead to incorrect prediction."
   ]
  },
  {
   "cell_type": "code",
   "execution_count": 138,
   "metadata": {},
   "outputs": [
    {
     "data": {
      "image/png": "[encoded data removed]",
      "text/plain": [
       "<Figure size 432x288 with 1 Axes>"
      ]
     },
     "metadata": {},
     "output_type": "display_data"
    }
   ],
   "source": [
    "# Correction Matrix Plot\n",
    "import matplotlib\n",
    "import matplotlib.pyplot as plt\n",
    "%matplotlib inline\n",
    "matplotlib.style.use('ggplot')\n",
    "plt.scatter(x, z)\n",
    "plt.show()"
   ]
  },
  {
   "cell_type": "markdown",
   "metadata": {},
   "source": [
    "In the above graph, x axis represents the absolute difference between predicted rating and actual rating, y axis represents the number of data. We can clearly see a long tail."
   ]
  },
  {
   "cell_type": "markdown",
   "metadata": {},
   "source": [
    "### all the texts but balanced svd"
   ]
  },
  {
   "cell_type": "code",
   "execution_count": null,
   "metadata": {},
   "outputs": [],
   "source": [
    "from collections import Counter\n",
    "\n",
    "def balance_classes(xs, ys):\n",
    "    freqs = Counter(ys)\n",
    "\n",
    "    # the least common class is the maximum number we want for all classes\n",
    "    max_allowable = freqs.most_common()[-1][1]\n",
    "    num_added = {clss: 0 for clss in freqs.keys()}\n",
    "    new_ys = []\n",
    "    new_xs = []\n",
    "    for x, y in zip(remaining_ratings.reviews,remaining_ratings.rating):\n",
    "        if num_added[y] < max_allowable:\n",
    "            new_ys.append(y)\n",
    "            new_xs.append(x)\n",
    "        num_added[y] += 1\n",
    "    return new_xs, new_ys"
   ]
  },
  {
   "cell_type": "code",
   "execution_count": null,
   "metadata": {},
   "outputs": [],
   "source": [
    "t1 = datetime.now()\n",
    "balanced_x, balanced_y = balance_classes(remaining_ratings.reviews, remaining_ratings.rating)\n",
    "\n",
    "latest_ratings_list=latest_ratings.reviews.tolist()\n",
    "new_ratings_reviews=latest_ratings_list+balanced_x\n",
    "\n",
    "vectors2 = vectorizer.transform(balanced_x)\n",
    "\n",
    "print(datetime.now() - t1)"
   ]
  },
  {
   "cell_type": "code",
   "execution_count": null,
   "metadata": {},
   "outputs": [],
   "source": [
    "from sklearn.svm import LinearSVC\n",
    "# initialise the SVM classifier\n",
    "classifier2 = LinearSVC()\n",
    "\n",
    "# train the classifier\n",
    "t1 = datetime.now()\n",
    "classifier2.fit(vectors2, balanced_y)\n",
    "\n",
    "print(datetime.now() - t1)"
   ]
  },
  {
   "cell_type": "code",
   "execution_count": null,
   "metadata": {},
   "outputs": [],
   "source": [
    "from sklearn.metrics import accuracy_score\n",
    "preds2=classifier2.predict(X_test)\n",
    "print(accuracy_score(y_test, preds2))\n",
    "from sklearn.metrics import classification_report\n",
    "print(classification_report(y_test, preds2))"
   ]
  },
  {
   "cell_type": "markdown",
   "metadata": {},
   "source": [
    "This is almost the same accuracy as the partial text data which indicates balanced text will not lead to a more accurate prediction."
   ]
  },
  {
   "cell_type": "markdown",
   "metadata": {},
   "source": [
    "### Active users only"
   ]
  },
  {
   "cell_type": "markdown",
   "metadata": {},
   "source": [
    "In all the above step, we used all the reviews from the dataset and that may be not accurate since we did not separate active users from inactive users. Next step we will use data from active users only and predict their rating. "
   ]
  },
  {
   "cell_type": "code",
   "execution_count": 3,
   "metadata": {},
   "outputs": [
    {
     "name": "stderr",
     "output_type": "stream",
     "text": [
      "/Users/jasmine1231/anaconda3/lib/python3.6/site-packages/ipykernel_launcher.py:2: FutureWarning: Sorting because non-concatenation axis is not aligned. A future version\n",
      "of pandas will change to not sort by default.\n",
      "\n",
      "To accept the future behavior, pass 'sort=False'.\n",
      "\n",
      "To retain the current behavior and silence the warning, pass 'sort=True'.\n",
      "\n",
      "  \n",
      "/Users/jasmine1231/anaconda3/lib/python3.6/site-packages/ipykernel_launcher.py:3: FutureWarning: Sorting because non-concatenation axis is not aligned. A future version\n",
      "of pandas will change to not sort by default.\n",
      "\n",
      "To accept the future behavior, pass 'sort=False'.\n",
      "\n",
      "To retain the current behavior and silence the warning, pass 'sort=True'.\n",
      "\n",
      "  This is separate from the ipykernel package so we can avoid doing imports until\n"
     ]
    }
   ],
   "source": [
    "active_ratings=ratings[ratings['user_id'].isin(active_users)]\n",
    "remaining_active_ratings=pd.concat([active_ratings, latest_ratings]).drop_duplicates(keep=False)\n",
    "new_active_ratings=pd.concat([latest_ratings, remaining_active_ratings])"
   ]
  },
  {
   "cell_type": "code",
   "execution_count": 4,
   "metadata": {},
   "outputs": [
    {
     "name": "stdout",
     "output_type": "stream",
     "text": [
      "0:25:37.791186\n"
     ]
    }
   ],
   "source": [
    "from sklearn.feature_extraction.text import TfidfVectorizer\n",
    "from datetime import datetime\n",
    "\n",
    "# This vectorizer breaks text into single words and bi-grams\n",
    "# and then calculates the TF-IDF representation\n",
    "vectorizer_active = TfidfVectorizer(ngram_range=(1,2))\n",
    "t1 = datetime.now()\n",
    "\n",
    "# the 'fit' builds up the vocabulary from all the reviews\n",
    "# while the 'transform' step turns each indivdual text into\n",
    "# a matrix of numbers.\n",
    "vectors_active = vectorizer_active.fit_transform(new_active_ratings.reviews)\n",
    "print(datetime.now() - t1)"
   ]
  },
  {
   "cell_type": "code",
   "execution_count": 5,
   "metadata": {},
   "outputs": [
    {
     "name": "stdout",
     "output_type": "stream",
     "text": [
      "(4252142, 21807313)\n",
      "4252142\n",
      "(286130, 21807313)\n",
      "286130\n"
     ]
    }
   ],
   "source": [
    "X_active_train=vectors_active[286130:,:]\n",
    "y_active_train=remaining_active_ratings.rating\n",
    "X_active_test=vectors_active[:286130,:]\n",
    "y_active_test=latest_ratings.rating\n",
    "print(X_active_train.shape)\n",
    "print(len(y_active_train))\n",
    "print(X_active_test.shape)\n",
    "print(len(y_active_test))"
   ]
  },
  {
   "cell_type": "code",
   "execution_count": 6,
   "metadata": {},
   "outputs": [
    {
     "name": "stdout",
     "output_type": "stream",
     "text": [
      "1:20:03.673476\n"
     ]
    }
   ],
   "source": [
    "from sklearn.svm import LinearSVC\n",
    "\n",
    "# initialise the SVM classifier\n",
    "classifier_active = LinearSVC()\n",
    "\n",
    "# train the classifier\n",
    "t1 = datetime.now()\n",
    "classifier_active.fit(X_active_train, y_active_train)\n",
    "print(datetime.now() - t1)"
   ]
  },
  {
   "cell_type": "code",
   "execution_count": 10,
   "metadata": {},
   "outputs": [
    {
     "name": "stdout",
     "output_type": "stream",
     "text": [
      "0.7328661797085241\n",
      "              precision    recall  f1-score   support\n",
      "\n",
      "         1.0       0.79      0.85      0.82     46475\n",
      "         2.0       0.48      0.36      0.42     22398\n",
      "         3.0       0.49      0.44      0.47     24851\n",
      "         4.0       0.51      0.52      0.51     48518\n",
      "         5.0       0.86      0.88      0.87    143888\n",
      "\n",
      "    accuracy                           0.73    286130\n",
      "   macro avg       0.63      0.61      0.62    286130\n",
      "weighted avg       0.72      0.73      0.73    286130\n",
      "\n",
      "[[ 39480   4266   1288    557    884]\n",
      " [  7619   8158   4650   1258    713]\n",
      " [  1971   3735  10998   6378   1769]\n",
      " [   448    540   4494  25079  17957]\n",
      " [   467    159    951  16331 125980]]\n"
     ]
    }
   ],
   "source": [
    "preds_active = classifier_active.predict(X_active_test)\n",
    "from sklearn.metrics import accuracy_score\n",
    "print(accuracy_score(y_active_test, preds_active))\n",
    "from sklearn.metrics import classification_report\n",
    "print(classification_report(y_active_test, preds_active))\n",
    "from sklearn.metrics import confusion_matrix\n",
    "print(confusion_matrix(y_active_test, preds_active))"
   ]
  },
  {
   "cell_type": "markdown",
   "metadata": {},
   "source": [
    "We can see that the accuracy is almost the same as using the whole dataset so the review of the inactive users do not make much difference to the active users' review."
   ]
  },
  {
   "cell_type": "markdown",
   "metadata": {},
   "source": [
    "### Inactive users only"
   ]
  },
  {
   "cell_type": "code",
   "execution_count": 11,
   "metadata": {},
   "outputs": [
    {
     "name": "stderr",
     "output_type": "stream",
     "text": [
      "/Users/jasmine1231/anaconda3/lib/python3.6/site-packages/ipykernel_launcher.py:5: FutureWarning: Sorting because non-concatenation axis is not aligned. A future version\n",
      "of pandas will change to not sort by default.\n",
      "\n",
      "To accept the future behavior, pass 'sort=False'.\n",
      "\n",
      "To retain the current behavior and silence the warning, pass 'sort=True'.\n",
      "\n",
      "  \"\"\"\n",
      "/Users/jasmine1231/anaconda3/lib/python3.6/site-packages/ipykernel_launcher.py:6: FutureWarning: Sorting because non-concatenation axis is not aligned. A future version\n",
      "of pandas will change to not sort by default.\n",
      "\n",
      "To accept the future behavior, pass 'sort=False'.\n",
      "\n",
      "To retain the current behavior and silence the warning, pass 'sort=True'.\n",
      "\n",
      "  \n"
     ]
    }
   ],
   "source": [
    "inactive_users = user_counts.loc[user_counts < 5].index.tolist()\n",
    "latest_ratings=sorted_ratings.groupby('user_id').head(1).reset_index()\n",
    "latest_inactive_ratings=latest_ratings[latest_ratings['user_id'].isin(inactive_users)]\n",
    "inactive_ratings=ratings[ratings['user_id'].isin(inactive_users)]\n",
    "remaining_inactive_ratings=pd.concat([inactive_ratings, latest_inactive_ratings]).drop_duplicates(keep=False)\n",
    "new_inactive_ratings=pd.concat([latest_inactive_ratings, remaining_inactive_ratings])"
   ]
  },
  {
   "cell_type": "code",
   "execution_count": 12,
   "metadata": {},
   "outputs": [
    {
     "name": "stdout",
     "output_type": "stream",
     "text": [
      "0:09:38.301589\n"
     ]
    }
   ],
   "source": [
    "# This vectorizer breaks text into single words and bi-grams\n",
    "# and then calculates the TF-IDF representation\n",
    "vectorizer_inactive = TfidfVectorizer(ngram_range=(1,2))\n",
    "t1 = datetime.now()\n",
    "\n",
    "# the 'fit' builds up the vocabulary from all the reviews\n",
    "# while the 'transform' step turns each indivdual text into\n",
    "# a matrix of numbers.\n",
    "vectors_inactive = vectorizer_inactive.fit_transform(new_inactive_ratings.reviews)\n",
    "print(datetime.now() - t1)"
   ]
  },
  {
   "cell_type": "code",
   "execution_count": 15,
   "metadata": {},
   "outputs": [
    {
     "name": "stdout",
     "output_type": "stream",
     "text": [
      "1351008\n",
      "796615\n"
     ]
    }
   ],
   "source": [
    "print(len(latest_inactive_ratings))\n",
    "print(len(remaining_inactive_ratings))"
   ]
  },
  {
   "cell_type": "code",
   "execution_count": 17,
   "metadata": {},
   "outputs": [],
   "source": [
    "from sklearn.model_selection import train_test_split\n",
    "X_inactive_train, X_inactive_test, y_inactive_train, y_inactive_test = train_test_split(vectors_inactive, new_inactive_ratings.rating, test_size=0.33, random_state=42)\n"
   ]
  },
  {
   "cell_type": "code",
   "execution_count": 18,
   "metadata": {},
   "outputs": [
    {
     "name": "stdout",
     "output_type": "stream",
     "text": [
      "0:06:04.402475\n"
     ]
    }
   ],
   "source": [
    "# initialise the SVM classifier\n",
    "classifier_inactive = LinearSVC()\n",
    "\n",
    "# train the classifier\n",
    "t1 = datetime.now()\n",
    "classifier_inactive.fit(X_inactive_train, y_inactive_train)\n",
    "print(datetime.now() - t1)"
   ]
  },
  {
   "cell_type": "code",
   "execution_count": 19,
   "metadata": {},
   "outputs": [
    {
     "name": "stdout",
     "output_type": "stream",
     "text": [
      "0.7801390119596566\n",
      "              precision    recall  f1-score   support\n",
      "\n",
      "         1.0       0.81      0.92      0.86    158338\n",
      "         2.0       0.48      0.31      0.38     51088\n",
      "         3.0       0.49      0.30      0.37     41637\n",
      "         4.0       0.53      0.36      0.43     93213\n",
      "         5.0       0.85      0.95      0.90    364440\n",
      "\n",
      "    accuracy                           0.78    708716\n",
      "   macro avg       0.63      0.57      0.59    708716\n",
      "weighted avg       0.75      0.78      0.76    708716\n",
      "\n",
      "[[145614   7915   1630    792   2387]\n",
      " [ 24675  15903   6180   2434   1896]\n",
      " [  6265   7583  12491  10370   4928]\n",
      " [  1633   1399   4478  33890  51813]\n",
      " [  1729    323    808  16581 344999]]\n"
     ]
    }
   ],
   "source": [
    "preds_inactive = classifier_inactive.predict(X_inactive_test)\n",
    "from sklearn.metrics import accuracy_score\n",
    "print(accuracy_score(y_inactive_test, preds_inactive))\n",
    "from sklearn.metrics import classification_report\n",
    "print(classification_report(y_inactive_test, preds_inactive))\n",
    "from sklearn.metrics import confusion_matrix\n",
    "print(confusion_matrix(y_inactive_test, preds_inactive))\n",
    "\n"
   ]
  },
  {
   "cell_type": "code",
   "execution_count": 21,
   "metadata": {},
   "outputs": [
    {
     "name": "stdout",
     "output_type": "stream",
     "text": [
      "0.6582728006297921\n"
     ]
    }
   ],
   "source": [
    "from sklearn.metrics import mean_squared_error\n",
    "from math import sqrt\n",
    "rms = sqrt(mean_squared_error(y_inactive_test, preds_inactive))\n",
    "print(rms)"
   ]
  },
  {
   "cell_type": "markdown",
   "metadata": {},
   "source": [
    "It is surprising that prediction for the reviews of inactive users is much higher than those of the active users. This may due to larger size of dataset that makes it more accurate."
   ]
  }
 ],
 "metadata": {
  "kernelspec": {
   "display_name": "Python 3",
   "language": "python",
   "name": "python3"
  },
  "language_info": {
   "codemirror_mode": {
    "name": "ipython",
    "version": 3
   },
   "file_extension": ".py",
   "mimetype": "text/x-python",
   "name": "python",
   "nbconvert_exporter": "python",
   "pygments_lexer": "ipython3",
   "version": "3.6.9"
  }
 },
 "nbformat": 4,
 "nbformat_minor": 2
}
